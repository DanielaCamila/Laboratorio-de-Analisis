{
 "cells": [
  {
   "cell_type": "markdown",
   "id": "ad754eab",
   "metadata": {},
   "source": [
    "# Quiz 1\n",
    "\n",
    "## Pregunta 1\n",
    "\n",
    "### Contexto del Caso:\n",
    "\n",
    "#### Contexto de la Compañía:\n",
    "\n",
    "AlfaTech es una empresa de desarrollo de software que se especializa en soluciones para la gestión de recursos humanos. La empresa ha estado enfrentando desafíos para mantener la eficiencia operativa mientras escala rápidamente para atender a un mercado más amplio.\n",
    "\n",
    "#### Datos Disponibles:\n",
    "\n",
    "- Ingresos Mensuales\n",
    "- Horas de Mantenimiento del Sistema\n",
    "- Tickets de Soporte Mensuales\n",
    "- Costos de Operaciones\n",
    "- Satisfacción del Cliente\n",
    "- Web_Traffic\n",
    "\n",
    "#### Problema:\n",
    "\n",
    "Recientemente, AlfaTech ha experimentado un aumento en los tickets de soporte, lo que ha afectado la satisfacción general del cliente. El equipo directivo desea monitorear un KPI operacional que les permita evaluar y mejorar la eficiencia del soporte técnico.\n",
    "\n",
    "#### Pregunta:\n",
    "\n",
    "¿Cuál de los siguientes KPIs sería el más adecuado para que AlfaTech monitoree la eficiencia del soporte técnico y tome medidas correctivas?\n",
    "\n",
    "1. Ingresos Mensuales (Ingresos totales generados en un mes)\n",
    "2. Horas de Mantenimiento del Sistema (Total de horas dedicadas al mantenimiento de sistemas en un mes)\n",
    "3. Tickets de Soporte Mensuales (Número total de tickets de soporte generados por los usuarios en un mes)\n",
    "4. Costos de Operaciones (Gastos totales relacionados con las operaciones del negocio en un mes)"
   ]
  },
  {
   "cell_type": "markdown",
   "id": "6402a36e",
   "metadata": {},
   "source": [
    "*Tickets de Soporte Mensuales*, ya que esa es directamente el área en el que te quieres enfocar en arreglar y es el indicador más preciso que tienes para saber si estás tomando las medidas correctas para resolverlo"
   ]
  },
  {
   "cell_type": "markdown",
   "id": "5a103796",
   "metadata": {},
   "source": [
    "## Pregunta 2\n",
    "\n",
    "Este conjunto de datos representa transacciones de clientes múltiples con diferentes cohortes y varias transacciones. Cada fila es una transacción, donde 'State' puede ser 'Active' (activa) o 'Cancelled' (cancelada). Solo las transacciones activas contribuyen al cálculo del CLTV."
   ]
  },
  {
   "cell_type": "code",
   "execution_count": 3,
   "id": "60e5d8b9",
   "metadata": {},
   "outputs": [],
   "source": [
    "import pandas as pd\n",
    "import numpy as np\n",
    "\n",
    "np.random.seed(42)\n",
    "\n",
    "dates = pd.date_range(start=\"2019-01-01\", end=\"2021-12-31\", freq='M')\n",
    "cohorts = ['2019-01', '2019-06', '2020-01', '2020-06', '2021-01']\n",
    "\n",
    "num_customers = 100\n",
    "customer_ids = np.arange(1, num_customers + 1)\n",
    "customer_cohorts = np.random.choice(cohorts, size=num_customers, replace=True)\n",
    "\n",
    "customers_df = pd.DataFrame({\n",
    "    'Customer_ID': customer_ids,\n",
    "    'Cohort': customer_cohorts\n",
    "})\n",
    "\n",
    "transactions = []\n",
    "\n",
    "for index, row in customers_df.iterrows():\n",
    "    num_transactions = np.random.poisson(5) \n",
    "    transaction_dates = np.sort(np.random.choice(dates, size=num_transactions, replace=False))\n",
    "    \n",
    "    for date in transaction_dates:\n",
    "        amount = np.random.normal(100, 20)  \n",
    "        state = 'Active' if np.random.rand() > 0.1 else 'Cancelled'\n",
    "        transactions.append([row['Customer_ID'], row['Cohort'], date, amount, state])\n",
    "\n",
    "transactions_df = pd.DataFrame(transactions, columns=['Customer_ID', 'Cohort', 'Transaction_Date', 'Amount', 'State'])"
   ]
  },
  {
   "cell_type": "markdown",
   "id": "309c3934",
   "metadata": {},
   "source": [
    "Dado el conjunto de datos, calcule el CLTV que llevamos adquirido del cliente con ID 007. Asuma que el margen de beneficio es del 20%."
   ]
  },
  {
   "cell_type": "code",
   "execution_count": 17,
   "id": "7354fe72",
   "metadata": {},
   "outputs": [
    {
     "data": {
      "text/html": [
       "<div>\n",
       "<style scoped>\n",
       "    .dataframe tbody tr th:only-of-type {\n",
       "        vertical-align: middle;\n",
       "    }\n",
       "\n",
       "    .dataframe tbody tr th {\n",
       "        vertical-align: top;\n",
       "    }\n",
       "\n",
       "    .dataframe thead th {\n",
       "        text-align: right;\n",
       "    }\n",
       "</style>\n",
       "<table border=\"1\" class=\"dataframe\">\n",
       "  <thead>\n",
       "    <tr style=\"text-align: right;\">\n",
       "      <th></th>\n",
       "      <th>Customer_ID</th>\n",
       "      <th>Cohort</th>\n",
       "      <th>Transaction_Date</th>\n",
       "      <th>Amount</th>\n",
       "      <th>State</th>\n",
       "    </tr>\n",
       "  </thead>\n",
       "  <tbody>\n",
       "    <tr>\n",
       "      <th>31</th>\n",
       "      <td>7</td>\n",
       "      <td>2020-01</td>\n",
       "      <td>2019-06-30</td>\n",
       "      <td>121.935925</td>\n",
       "      <td>Active</td>\n",
       "    </tr>\n",
       "    <tr>\n",
       "      <th>32</th>\n",
       "      <td>7</td>\n",
       "      <td>2020-01</td>\n",
       "      <td>2019-07-31</td>\n",
       "      <td>75.235383</td>\n",
       "      <td>Active</td>\n",
       "    </tr>\n",
       "    <tr>\n",
       "      <th>33</th>\n",
       "      <td>7</td>\n",
       "      <td>2020-01</td>\n",
       "      <td>2021-01-31</td>\n",
       "      <td>83.506973</td>\n",
       "      <td>Active</td>\n",
       "    </tr>\n",
       "    <tr>\n",
       "      <th>34</th>\n",
       "      <td>7</td>\n",
       "      <td>2020-01</td>\n",
       "      <td>2021-04-30</td>\n",
       "      <td>110.588710</td>\n",
       "      <td>Cancelled</td>\n",
       "    </tr>\n",
       "    <tr>\n",
       "      <th>35</th>\n",
       "      <td>7</td>\n",
       "      <td>2020-01</td>\n",
       "      <td>2021-07-31</td>\n",
       "      <td>96.322165</td>\n",
       "      <td>Active</td>\n",
       "    </tr>\n",
       "  </tbody>\n",
       "</table>\n",
       "</div>"
      ],
      "text/plain": [
       "    Customer_ID   Cohort Transaction_Date      Amount      State\n",
       "31            7  2020-01       2019-06-30  121.935925     Active\n",
       "32            7  2020-01       2019-07-31   75.235383     Active\n",
       "33            7  2020-01       2021-01-31   83.506973     Active\n",
       "34            7  2020-01       2021-04-30  110.588710  Cancelled\n",
       "35            7  2020-01       2021-07-31   96.322165     Active"
      ]
     },
     "execution_count": 17,
     "metadata": {},
     "output_type": "execute_result"
    }
   ],
   "source": [
    "transactions_df[transactions_df['Customer_ID']==7]"
   ]
  },
  {
   "cell_type": "code",
   "execution_count": 21,
   "id": "34541732",
   "metadata": {},
   "outputs": [
    {
     "data": {
      "text/html": [
       "<div>\n",
       "<style scoped>\n",
       "    .dataframe tbody tr th:only-of-type {\n",
       "        vertical-align: middle;\n",
       "    }\n",
       "\n",
       "    .dataframe tbody tr th {\n",
       "        vertical-align: top;\n",
       "    }\n",
       "\n",
       "    .dataframe thead th {\n",
       "        text-align: right;\n",
       "    }\n",
       "</style>\n",
       "<table border=\"1\" class=\"dataframe\">\n",
       "  <thead>\n",
       "    <tr style=\"text-align: right;\">\n",
       "      <th></th>\n",
       "      <th>Customer_ID</th>\n",
       "      <th>Cohort</th>\n",
       "      <th>Transaction_Date</th>\n",
       "      <th>Amount</th>\n",
       "      <th>State</th>\n",
       "    </tr>\n",
       "  </thead>\n",
       "  <tbody>\n",
       "    <tr>\n",
       "      <th>31</th>\n",
       "      <td>7</td>\n",
       "      <td>2020-01</td>\n",
       "      <td>2019-06-30</td>\n",
       "      <td>121.935925</td>\n",
       "      <td>Active</td>\n",
       "    </tr>\n",
       "    <tr>\n",
       "      <th>32</th>\n",
       "      <td>7</td>\n",
       "      <td>2020-01</td>\n",
       "      <td>2019-07-31</td>\n",
       "      <td>75.235383</td>\n",
       "      <td>Active</td>\n",
       "    </tr>\n",
       "    <tr>\n",
       "      <th>33</th>\n",
       "      <td>7</td>\n",
       "      <td>2020-01</td>\n",
       "      <td>2021-01-31</td>\n",
       "      <td>83.506973</td>\n",
       "      <td>Active</td>\n",
       "    </tr>\n",
       "    <tr>\n",
       "      <th>35</th>\n",
       "      <td>7</td>\n",
       "      <td>2020-01</td>\n",
       "      <td>2021-07-31</td>\n",
       "      <td>96.322165</td>\n",
       "      <td>Active</td>\n",
       "    </tr>\n",
       "  </tbody>\n",
       "</table>\n",
       "</div>"
      ],
      "text/plain": [
       "    Customer_ID   Cohort Transaction_Date      Amount   State\n",
       "31            7  2020-01       2019-06-30  121.935925  Active\n",
       "32            7  2020-01       2019-07-31   75.235383  Active\n",
       "33            7  2020-01       2021-01-31   83.506973  Active\n",
       "35            7  2020-01       2021-07-31   96.322165  Active"
      ]
     },
     "execution_count": 21,
     "metadata": {},
     "output_type": "execute_result"
    }
   ],
   "source": [
    "p = transactions_df[(transactions_df['Customer_ID'] == 7) & (transactions_df['State'] == 'Active')]\n",
    "p"
   ]
  },
  {
   "cell_type": "code",
   "execution_count": 25,
   "id": "e3d645c8",
   "metadata": {},
   "outputs": [
    {
     "data": {
      "text/plain": [
       "75.40008935165585"
      ]
     },
     "execution_count": 25,
     "metadata": {},
     "output_type": "execute_result"
    }
   ],
   "source": [
    "CLVT = np.sum(p['Amount']*.20)\n",
    "CLVT"
   ]
  }
 ],
 "metadata": {
  "kernelspec": {
   "display_name": "Python 3 (ipykernel)",
   "language": "python",
   "name": "python3"
  },
  "language_info": {
   "codemirror_mode": {
    "name": "ipython",
    "version": 3
   },
   "file_extension": ".py",
   "mimetype": "text/x-python",
   "name": "python",
   "nbconvert_exporter": "python",
   "pygments_lexer": "ipython3",
   "version": "3.11.4"
  }
 },
 "nbformat": 4,
 "nbformat_minor": 5
}
